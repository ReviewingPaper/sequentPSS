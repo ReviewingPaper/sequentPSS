{
 "cells": [
  {
   "cell_type": "code",
   "execution_count": 9,
   "metadata": {
    "collapsed": true,
    "jupyter": {
     "outputs_hidden": true
    },
    "tags": []
   },
   "outputs": [
    {
     "ename": "ModuleNotFoundError",
     "evalue": "No module named 'random2'",
     "output_type": "error",
     "traceback": [
      "\u001b[1;31m---------------------------------------------------------------------------\u001b[0m",
      "\u001b[1;31mModuleNotFoundError\u001b[0m                       Traceback (most recent call last)",
      "\u001b[1;32m<ipython-input-9-8ad966aff666>\u001b[0m in \u001b[0;36m<module>\u001b[1;34m\u001b[0m\n\u001b[0;32m      1\u001b[0m \u001b[1;32mimport\u001b[0m \u001b[0mnumpy\u001b[0m \u001b[1;32mas\u001b[0m \u001b[0mnp\u001b[0m\u001b[1;33m\u001b[0m\u001b[1;33m\u001b[0m\u001b[0m\n\u001b[0;32m      2\u001b[0m \u001b[1;32mimport\u001b[0m \u001b[0mpandas\u001b[0m \u001b[1;32mas\u001b[0m \u001b[0mpd\u001b[0m\u001b[1;33m\u001b[0m\u001b[1;33m\u001b[0m\u001b[0m\n\u001b[1;32m----> 3\u001b[1;33m \u001b[1;32mimport\u001b[0m \u001b[0mrandom2\u001b[0m\u001b[1;33m\u001b[0m\u001b[1;33m\u001b[0m\u001b[0m\n\u001b[0m\u001b[0;32m      4\u001b[0m \u001b[1;32mimport\u001b[0m \u001b[0mrandom\u001b[0m\u001b[1;33m\u001b[0m\u001b[1;33m\u001b[0m\u001b[0m\n\u001b[0;32m      5\u001b[0m \u001b[1;32mimport\u001b[0m \u001b[0mos\u001b[0m\u001b[1;33m\u001b[0m\u001b[1;33m\u001b[0m\u001b[0m\n",
      "\u001b[1;31mModuleNotFoundError\u001b[0m: No module named 'random2'"
     ]
    }
   ],
   "source": [
    "import numpy as np\n",
    "import pandas as pd\n",
    "import random2\n",
    "import random\n",
    "import os "
   ]
  },
  {
   "cell_type": "code",
   "execution_count": 2,
   "metadata": {
    "tags": []
   },
   "outputs": [],
   "source": [
    "from SALib.analyze import sobol\n",
    "from SALib.analyze import fast\n",
    "from SALib.analyze import rbd_fast\n",
    "from SALib.analyze import delta"
   ]
  },
  {
   "cell_type": "markdown",
   "metadata": {
    "tags": []
   },
   "source": [
    "## data"
   ]
  },
  {
   "cell_type": "code",
   "execution_count": 3,
   "metadata": {
    "tags": []
   },
   "outputs": [],
   "source": [
    "# change path to relative path - only for publishing\n",
    "current_directory = os.path.dirname(os.path.abspath(__file__))\n",
    "os.chdir(current_directory)\n",
    "\n",
    "path = \"./sampleData/concatenated_df.csv\"\n",
    "simul_data = pd.read_csv(path)\n",
    "\n",
    "oPath = \"./sampleData/\"\n",
    "O1 = sorted(np.loadtxt(oPath + \"O1.txt\"))\n",
    "O2 = sorted(np.loadtxt(oPath + \"O2.txt\"))\n",
    "O3 = sorted(np.loadtxt(oPath + \"O3.txt\"))"
   ]
  },
  {
   "cell_type": "markdown",
   "metadata": {},
   "source": [
    "## simulation code"
   ]
  },
  {
   "cell_type": "code",
   "execution_count": 1,
   "metadata": {
    "tags": []
   },
   "outputs": [],
   "source": [
    "def simple_Simulation(x1: 'int', x2: 'int', x3: 'int', n = 10):\n",
    "    '''\n",
    "    Conducts a simple simulation.\n",
    "\n",
    "    Parameters\n",
    "    ----------\n",
    "    x1 : int\n",
    "        Parameter 1. Range: 1 to 5.\n",
    "    x2 : int\n",
    "        Parameter 2. Range: 1 to 5.\n",
    "    x3 : int\n",
    "        Parameter 3. Range: 1 to 5.\n",
    "    n : int, optional\n",
    "        The number of simulation runs. Default is 10.\n",
    "\n",
    "    Returns\n",
    "    -------\n",
    "    DataFrame\n",
    "        Returns a DataFrame as a result of the simulation.\n",
    "\n",
    "    Examples\n",
    "    --------\n",
    "    >>> simple_Simulation(x1 = 1, x2 = 3, x3 = 2, n = 11)\n",
    "    '''\n",
    "    \n",
    "    global simul_data # Declare simul_data as a global variable\n",
    "   \n",
    "    # Select data based on the conditions\n",
    "    condition = (simul_data['x1'] == x1) & (simul_data['x2'] == x2) & (simul_data['x3'] == x3)\n",
    "    filtered_df = simul_data[condition]\n",
    "\n",
    "    dfs = [] # Initialize an empty list to store DataFrames\n",
    "    for i in range(n): # Iterate n times to e\n",
    "        \n",
    "        uniq_num = random.choice(pd.unique(filtered_df['uniq_num']))\n",
    "        chosen_df = filtered_df[filtered_df['uniq_num'] == uniq_num] # Filter by unique number\n",
    "    \n",
    "        # Create new simulation data\n",
    "        new_data = {\n",
    "            'x1': [chosen_df['x1'].iloc[0]],\n",
    "            'x2': [chosen_df['x2'].iloc[0]],\n",
    "            'x3': [chosen_df['x3'].iloc[0]],\n",
    "            'y1': [sorted(chosen_df['y1'].tolist())],\n",
    "            'y2': [sorted(chosen_df['y2'].tolist())],\n",
    "            'y3': [sorted(chosen_df['y3'].tolist())]\n",
    "        }\n",
    "        \n",
    "        chosen_df = pd.DataFrame(new_data)\n",
    "\n",
    "        dfs.append(chosen_df) # Append the chosen DataFrame to the list\n",
    "        \n",
    "    result_df = pd.concat(dfs, axis=0, ignore_index=True) \n",
    "    \n",
    "    # Function to sort lists in ascending order\n",
    "    def sort_list(lst):\n",
    "        return sorted(lst)\n",
    "\n",
    "    # Apply the sorting function to each list in the DataFrame\n",
    "    result_df['y1'] = result_df['y1'].apply(sort_list)\n",
    "    result_df['y2'] = result_df['y2'].apply(sort_list)\n",
    "    result_df['y3'] = result_df['y3'].apply(sort_list)\n",
    "\n",
    "    \n",
    "    return result_df"
   ]
  },
  {
   "cell_type": "code",
   "execution_count": 2,
   "metadata": {},
   "outputs": [],
   "source": [
    "# run multiple simulations\n",
    "\n",
    "def multiple_simple_simulation(x1_list, x2_list, x3_list, M = 100, k = 3):\n",
    "    '''\n",
    "    Runs multiple simulations with varying parameters and compiles the results.\n",
    "\n",
    "    Parameters\n",
    "    ----------\n",
    "    x1_list : list\n",
    "        List of values for parameter 1. Range: 1 to 5.\n",
    "    x2_list : list\n",
    "        List of values for parameter 2. Range: 1 to 5.\n",
    "    x3_list : list\n",
    "        List of values for parameter 3. Range: 1 to 5.\n",
    "    M : int, optional\n",
    "        Monte Carlo index. Default is 100. A lower value may reduce accuracy, while a higher value increases computational intensity.\n",
    "    k : int, optional\n",
    "        The number of parameters, default is 3.\n",
    "\n",
    "    Returns\n",
    "    -------\n",
    "    DataFrame\n",
    "        Returns a DataFrame as a result of the multiple simulations. The data is structured as a two-dimensional data structure with labeled axes.\n",
    "\n",
    "    Examples\n",
    "    --------\n",
    "    >>> multi_simul_df = multiple_simple_simulation(x1_list, x2_list, x3_list, M = 150, k = 3)\n",
    "    '''        \n",
    "    \n",
    "    global simple_Simulation # Reference the global function simple_Simulation\n",
    "    \n",
    "    prep1_dfs = [] # List to store the results of each simulation\n",
    "    \n",
    "    for i in range(M*(2*k + 2)): # Run simulations M*(2*k + 2) times\n",
    "        # Randomly choose parameters from the provided lists\n",
    "        x_1 = random.choice(x1_list)\n",
    "        x_2 = random.choice(x2_list)\n",
    "        x_3 = random.choice(x3_list)\n",
    "\n",
    "        # Run the simulation with the chosen parameters and store the result\n",
    "        tem_prep1_data = simple_Simulation(x1 = x_1, x2 = x_2, x3 = x_3, n = 1)\n",
    "\n",
    "        # Append the result of each simulation to the list\n",
    "        prep1_dfs.append(tem_prep1_data)\n",
    "\n",
    "    result_df = pd.concat(prep1_dfs, axis=0, ignore_index=True) # Combine all results into a single DataFrame\n",
    "\n",
    "    return result_df"
   ]
  },
  {
   "cell_type": "markdown",
   "metadata": {},
   "source": [
    "## 1) preprocessing (1) - Determine a criterions for calibration"
   ]
  },
  {
   "cell_type": "code",
   "execution_count": 3,
   "metadata": {
    "tags": []
   },
   "outputs": [],
   "source": [
    "def prep1_criterion(O_list, multi_simul_df, u, k):\n",
    "    '''\n",
    "    Preprocessing function to calculate the Root Mean Square Error (RMSE) for calibration criterion.\n",
    "\n",
    "    Parameters\n",
    "    ----------\n",
    "    O_list : list\n",
    "        List that includes observed data.\n",
    "    multi_simul_df : DataFrame\n",
    "        Result DataFrame from multiple simulations.\n",
    "    u : float\n",
    "        Leniency index (default: 0.1). A lower value may lead to overfitting, while a higher value increases uncertainty.\n",
    "    k : int\n",
    "        The number of parameters (default: 3).\n",
    "\n",
    "    Notes\n",
    "    -----\n",
    "    - If there are multiple 'y' columns in multi_simul_df, they should be denoted as y1, y2, y3, y4, etc.\n",
    "    - Correspondingly, 'p' columns should be in the form of p1, p2, p3, p4, etc.\n",
    "\n",
    "    Returns\n",
    "    -------\n",
    "    tuple\n",
    "        Returns a tuple of two DataFrames: rmse_sel_df (each RMSE result for O1, O2, O3, etc.) and multi_simul_df_temp (each RMSE selection result for O1, O2, O3, etc.).\n",
    "\n",
    "    Examples\n",
    "    --------\n",
    "    >>> rmse_sel_df, multi_simul_df_temp = prep1_criterion(O_list, multi_simul_df, u, k) \n",
    "    '''           \n",
    "    \n",
    "    multi_simul_df_temp = multi_simul_df.copy()\n",
    "    \n",
    "    # Function to calculate RMSE\n",
    "    def rmse(actual, predicted):\n",
    "        return np.sqrt(np.mean((np.array(actual) - np.array(predicted))**2))\n",
    "\n",
    "\n",
    "    # Add combinations of 'x' columns\n",
    "    comb_columns = [col for col in multi_simul_df_temp.columns if col.startswith('x')]\n",
    "    multi_simul_df_temp['comb'] = multi_simul_df_temp[comb_columns].apply(lambda row: list(row), axis=1)\n",
    "\n",
    "    \n",
    "    # Add new columns for RMSE between 'y' columns and O_list\n",
    "    for i, col in enumerate(multi_simul_df_temp.columns):\n",
    "        if col.startswith('y'):\n",
    "            col_name = 'rmse_O' + col[1:]\n",
    "            multi_simul_df_temp[col_name] = multi_simul_df_temp[col].apply(lambda x: rmse(x, O_list[int(col[1:]) - 1]))\n",
    "\n",
    "    # --- now, we need to calculate criterions for calibration for each y--- \n",
    "\n",
    "    # Select 'rmse_O' columns\n",
    "    rmse_O_columns = [col for col in multi_simul_df_temp.columns if col.startswith('rmse_O')]\n",
    "\n",
    "    # Calculate min and max values for each 'rmse_O' column\n",
    "    min_values = multi_simul_df_temp[rmse_O_columns].min()\n",
    "    max_values = multi_simul_df_temp[rmse_O_columns].max()\n",
    "\n",
    "    # Calculate RMSEsel for each 'y\n",
    "    rmse_sel_df = pd.DataFrame()\n",
    "\n",
    "    for col in rmse_O_columns:\n",
    "        rmse_min = min_values[col]\n",
    "        rmse_max = max_values[col]\n",
    "        # Calculate and add the RMSEsel result to new columns\n",
    "        rmse_sel_df[col] = [rmse_min + (rmse_max - rmse_min) * u]\n",
    "        rmse_sel = rmse_min + (rmse_max - rmse_min) * u\n",
    "        # Add new columns for RMSE selection\n",
    "        multi_simul_df_temp[col + '_sel'] = rmse_sel\n",
    "    \n",
    "\n",
    "    return rmse_sel_df, multi_simul_df_temp"
   ]
  },
  {
   "cell_type": "markdown",
   "metadata": {},
   "source": [
    "## 2) preprocessing (2) - Sorting Y and X"
   ]
  },
  {
   "cell_type": "code",
   "execution_count": 4,
   "metadata": {
    "tags": []
   },
   "outputs": [],
   "source": [
    "def sorting_Y(multi_simul_df_rmse_sel):\n",
    "    '''\n",
    "    This function sorts the 'y' (outcomes) based on the count of instances where 'rmse' is smaller than 'rmse_sel'. \n",
    "    The 'y' variables with higher counts are calibrated first.\n",
    "\n",
    "    Parameters\n",
    "    ----------\n",
    "    multi_simul_df_rmse_sel : DataFrame\n",
    "        The result DataFrame from multiple simulations, including rmse and rmse_sel values.\n",
    "\n",
    "    Returns\n",
    "    -------\n",
    "    DataFrame\n",
    "        Returns a DataFrame with the sorted 'y' variables and their corresponding counts.\n",
    "\n",
    "    Examples\n",
    "    --------\n",
    "    >>> y_seq_df = sorting_Y(multi_simul_df_rmse_sel)\n",
    "    '''             \n",
    "    \n",
    "    # Columns that starts with rmse_O\n",
    "    rmse_cols = [col for col in multi_simul_df_rmse_sel.columns if col.startswith('rmse_O')]\n",
    "    num_rmse_cols = int(len(rmse_cols)/2)\n",
    "    num_rmse_cols\n",
    "\n",
    "    # Initialize DataFrame to store results\n",
    "    result_df = pd.DataFrame()\n",
    "    \n",
    "    # Loop through each rmse_O column\n",
    "    for i in range(1, num_rmse_cols + 1):\n",
    "        rmse_col = f'rmse_O{i}'\n",
    "        sel_col = f'rmse_O{i}_sel'\n",
    "        # Count the number of rows where rmse < rmse_sel\n",
    "        count = multi_simul_df_rmse_sel[multi_simul_df_rmse_sel[rmse_col] < multi_simul_df_rmse_sel[sel_col]].shape[0]\n",
    "        \n",
    "        # Create a new DataFrame for each 'y' and its count\n",
    "        y_col = f'y{i}'\n",
    "        y_seq_df = pd.DataFrame({'y': [y_col], 'count': [count]})\n",
    "        # Concatenate the new DataFrame with the result DataFrame\n",
    "        result_df = pd.concat([result_df, y_seq_df], ignore_index=True)\n",
    "        \n",
    "    # Sort the result DataFrame in descending order based on 'count'\n",
    "    sorted_y_seq_df = result_df.sort_values(by='count', ascending=False)\n",
    "\n",
    "    print('The order of Ys:', sorted_y_seq_df['y'].to_list())\n",
    "    \n",
    "    return result_df"
   ]
  },
  {
   "cell_type": "code",
   "execution_count": 5,
   "metadata": {
    "tags": []
   },
   "outputs": [],
   "source": [
    "def sorting_X(problem: dict, multi_simul_df_rmse_sel, SA='RBD-FAST'):\n",
    "    '''\n",
    "    Performs sensitivity analysis on the 'X' variables using various Sensitivity Analysis (SA) methods.\n",
    "    \n",
    "    Parameters\n",
    "    ----------\n",
    "    problem : dict\n",
    "        A dictionary defining the problem for sensitivity analysis.\n",
    "    multi_simul_df_rmse_sel : DataFrame\n",
    "        The result DataFrame from multiple simulations, including rmse values.\n",
    "    SA : str, optional\n",
    "        The Global Sensitivity Analysis method to use. Options are 'Sobol', 'FAST', 'RBD-FAST', and 'Delta'.\n",
    "        Default is 'RBD-FAST'.\n",
    "\n",
    "    Methods\n",
    "    -------\n",
    "    Sobol : Sobol’ Sensitivity Analysis\n",
    "    FAST : Fourier Amplitude Sensitivity Test\n",
    "    RBD-FAST : Random Balance Designs Fourier Amplitude Sensitivity Test\n",
    "    Delta : Delta Moment-Independent Measure\n",
    "\n",
    "    Returns\n",
    "    -------\n",
    "    DataFrame\n",
    "        Returns a DataFrame with the sensitivity indices for each 'X' variable.\n",
    "\n",
    "    Examples\n",
    "    --------\n",
    "    >>> si_df = sorting_X(problem, multi_simul_df_rmse_sel, SA='RBD-FAST')\n",
    "    '''\n",
    "\n",
    "    # Convert 'comb' column to numpy array\n",
    "    Xs = np.array(multi_simul_df_rmse_sel['comb'].to_list())\n",
    "    \n",
    "    # Extract 'rmse_O' columns that do not end with '_sel' and convert their values to arrays\n",
    "    rmse_o_columns = [col for col in multi_simul_df_rmse_sel.columns if col.startswith('rmse_O') and not col.endswith('_sel')]\n",
    "    y_list = [np.array(multi_simul_df_rmse_sel[col]) for col in rmse_o_columns]\n",
    "\n",
    "\n",
    "    Si_list = []\n",
    "\n",
    "    # Perform sensitivity analysis using the specified GSA method\n",
    "    for y in y_list:\n",
    "        if SA == 'Sobol':\n",
    "            Si = sobol.analyze(problem, y)\n",
    "        elif SA == 'FAST':\n",
    "            Si = fast.analyze(problem, y)\n",
    "        elif SA == 'RBD-FAST':\n",
    "            Si = rbd_fast.analyze(problem, Xs, y)\n",
    "        elif SA == 'Delta':\n",
    "            Si = delta.analyze(problem, Xs, y)\n",
    "            \n",
    "        Si_list.append(Si['S1'])  # Append the first-order sensitivity indices\n",
    "\n",
    "    # Calculate the average of sensitivity indices\n",
    "    averages = [sum(column) / len(column) for column in zip(*Si_list)]\n",
    "\n",
    "    # Create a new DataFrame to store results\n",
    "    si_df = pd.DataFrame()\n",
    "\n",
    "    # insert x1, x2, x2... into 'Xs' column\n",
    "    si_df['Xs'] = [f'x{i}' for i in range(1, len(averages) + 1)]\n",
    "\n",
    "    # calculate average of Si and put those to 'first_order_Si' column\n",
    "    si_df['first_order_Si'] = averages\n",
    "\n",
    "    # Sort the DataFrame in descending order based on the sensitivity index\n",
    "    sorted_x_seq_df = si_df.sort_values(by='first_order_Si', ascending=False)\n",
    "\n",
    "    print('The order of Xs:', sorted_x_seq_df['Xs'].to_list())\n",
    "    \n",
    "    return si_df"
   ]
  },
  {
   "cell_type": "markdown",
   "metadata": {},
   "source": [
    "## 3) Parameter space searching and calibration"
   ]
  },
  {
   "cell_type": "code",
   "execution_count": 47,
   "metadata": {
    "tags": []
   },
   "outputs": [],
   "source": [
    "def fix_param_simple_simulation(x1_list, x2_list, x3_list, fix_x: str, M = 100):\n",
    "    '''\n",
    "    Performs multiple simulations with one of the parameters fixed.\n",
    "\n",
    "    Parameters\n",
    "    ----------\n",
    "    x1_list : list\n",
    "        List of values for parameter x1.\n",
    "    x2_list : list\n",
    "        List of values for parameter x2.\n",
    "    x3_list : list\n",
    "        List of values for parameter x3.\n",
    "    fix_x : str\n",
    "        The parameter (x1, x2, or x3) to be fixed during the simulation.\n",
    "    M : int, optional\n",
    "        The number of Monte Carlo simulations. Default is 100. Lower values may reduce accuracy, while higher values increase computational intensity.\n",
    "\n",
    "    Returns\n",
    "    -------\n",
    "    DataFrame\n",
    "        Returns a DataFrame as a result of the multiple simulations with one parameter fixed. The data is structured as a two-dimensional data structure with labeled axes.\n",
    "\n",
    "    Examples\n",
    "    --------\n",
    "    >>> multi_simul_df = fix_param_simple_simulation(x1_list, x2_list, x3_list, fix_x='x1', M=100)\n",
    "    '''  \n",
    "    \n",
    "    global simple_Simulation # Reference the global function simple_Simulation\n",
    "    \n",
    "    prep1_dfs = [] # List to store the results of each simulation\n",
    "    \n",
    "    # Determine which parameter list to use as the fixed parameter list\n",
    "    if fix_x == 'x1':\n",
    "        target_list = x1_list.copy()\n",
    "    elif fix_x == 'x2':\n",
    "        target_list = x2_list.copy()\n",
    "    elif fix_x == 'x3':\n",
    "        target_list = x3_list.copy()\n",
    "    \n",
    "    # Iterate over each value of the fixed parameter\n",
    "    for fix_param in target_list:\n",
    "        for i in range(M): # Run simulations M times\n",
    "            # Set parameter space based on the fixed parameter\n",
    "            if fix_x == 'x1':\n",
    "                x_1 = fix_param\n",
    "                x_2 = random.choice(x2_list)\n",
    "                x_3 = random.choice(x3_list)\n",
    "            elif fix_x == 'x2':\n",
    "                x_1 = random.choice(x1_list)\n",
    "                x_2 = fix_param\n",
    "                x_3 = random.choice(x3_list)\n",
    "            elif fix_x == 'x3':\n",
    "                x_1 = random.choice(x1_list)\n",
    "                x_2 = random.choice(x2_list)\n",
    "                x_3 = fix_param\n",
    "\n",
    "            # Run the simulation and save the result\n",
    "            tem_prep1_data = simple_Simulation(x1=x_1, x2=x_2, x3=x_3, n=1)\n",
    "\n",
    "            # Append the result to the list\n",
    "            prep1_dfs.append(tem_prep1_data)\n",
    "    # Combine all results into a single DataFrame\n",
    "    result_df = pd.concat(prep1_dfs, axis=0, ignore_index=True)\n",
    "\n",
    "    return result_df"
   ]
  },
  {
   "cell_type": "code",
   "execution_count": 6,
   "metadata": {},
   "outputs": [],
   "source": [
    "def seqCalibration(fix_x, fix_y, rmse_sel, simul_result_df, O_list, t, df_return = False): #x_index는 x 몇인지, y_index는 y 몇인지\n",
    "    \n",
    "    '''\n",
    "    Runs sequential calibration by fixing one parameter and one dependent variable.\n",
    "    The permissible calibrated parameter space varies based on the tolerance index (τ). \n",
    "    A higher τ value results in stricter calibration, reducing the parameter space significantly\n",
    "\n",
    "    Parameters\n",
    "    ----------\n",
    "    fix_x : str\n",
    "        The fixed x parameter in the current calibration round.\n",
    "    fix_y : str\n",
    "        The fixed y parameter in the current calibration round.\n",
    "    rmse_sel : float\n",
    "        The rmse_sel value of y from the rmse_sel DataFrame.\n",
    "    simul_result_df : DataFrame\n",
    "        The simulation result DataFrame that includes each x and corresponding y values.\n",
    "    O_list : list\n",
    "        A list that includes all observed data of Y.\n",
    "    t : float\n",
    "        Tolerance index to determine the calibration accuracy.\n",
    "    df_return : bool, optional\n",
    "        Whether to return the result DataFrame (True) or just the list (False). Default is False.\n",
    "\n",
    "    Returns\n",
    "    -------\n",
    "    tuple or list\n",
    "        If df_return is True, returns a tuple of a new list of x values and the result DataFrame. Otherwise, returns only the new list of x values.\n",
    "\n",
    "    Examples\n",
    "    --------\n",
    "    >>> x3_list, result_df = seqCalibration(fix_x='x3', fix_y='y1', rmse_sel=401.295316, simul_result_df=fix_x3_simul_result_df, O_list=O_list, t=0.1, df_return=True)\n",
    "    >>> x3_list = seqCalibration(fix_x='x3', fix_y='y1', rmse_sel=401.295316, simul_result_df=fix_x3_simul_result_df, O_list=O_list, t=0.1)\n",
    "    '''\n",
    "    \n",
    "    # Function to calculate RMSE\n",
    "    def rmse(actual, predicted):\n",
    "        return np.sqrt(np.mean((np.array(actual) - np.array(predicted))**2))\n",
    "\n",
    "\n",
    "    # --- add combinations of y ---\n",
    "    df = simul_result_df.copy()\n",
    "    # Add combinations of x columns\n",
    "    comb_columns = [col for col in df.columns if col.startswith('x')] # if the comlumn name starts with x\n",
    "    df['comb'] = df[comb_columns].apply(lambda row: list(row), axis=1)\n",
    "\n",
    "    # Compute RMSE for the fixed y variable\n",
    "    df[fix_y + '_rmse'] = df[fix_y].apply(lambda x: rmse(x, O_list[int(fix_y[1:]) - 1])) # pull index of y and pull Observed data\n",
    "    df['n_R'] = 1   # All counts of RMSE result\n",
    "    df['n_C'] = 0   # ALl counts of RMSE result but lower than RMSE_sel\n",
    "    \n",
    "    # --- return result ---\n",
    "    df.loc[df[fix_y + '_rmse'] < rmse_sel, 'n_C'] = 1 # if y1_rmse is lower than rmse_sel -> put 1 in n_C\n",
    "    \n",
    "    # Analyze the calibration reliability for each unique value of the fixed x parameter\n",
    "    result_summary = {}\n",
    "    unique_x_values = df[fix_x].unique()\n",
    "    new_x_list = []\n",
    "    \n",
    "    for x_value in unique_x_values:   # when n_C / n_R is greater than t : save it to the list\n",
    "        n_R_sum = df.loc[df[fix_x] == x_value, 'n_R'].sum()\n",
    "        n_C_sum = df.loc[df[fix_x] == x_value, 'n_C'].sum()\n",
    "        if n_C_sum / n_R_sum >= t:\n",
    "            result_summary[x_value] = round(n_C_sum / n_R_sum, 3)\n",
    "            new_x_list.append(x_value)\n",
    "    \n",
    "    # Print the reliability summary\n",
    "    print('reliability of \\'' + fix_x + '\\' for \\'' + fix_y + '\\' (1 - uncertainty degree): ', result_summary)\n",
    "    \n",
    "    new_x_list = sorted(new_x_list)\n",
    "\n",
    "    # Return the result based on df_return flag\n",
    "    if df_return == True:\n",
    "        return new_x_list, df\n",
    "    else:\n",
    "        return new_x_list"
   ]
  },
  {
   "cell_type": "markdown",
   "metadata": {},
   "source": [
    "# User"
   ]
  },
  {
   "cell_type": "code",
   "execution_count": 7,
   "metadata": {
    "collapsed": true,
    "jupyter": {
     "outputs_hidden": true
    }
   },
   "outputs": [
    {
     "ename": "NameError",
     "evalue": "name 'random' is not defined",
     "output_type": "error",
     "traceback": [
      "\u001b[1;31m---------------------------------------------------------------------------\u001b[0m",
      "\u001b[1;31mNameError\u001b[0m                                 Traceback (most recent call last)",
      "\u001b[1;32m<ipython-input-7-1290fb604951>\u001b[0m in \u001b[0;36m<module>\u001b[1;34m\u001b[0m\n\u001b[0;32m     10\u001b[0m \u001b[1;33m\u001b[0m\u001b[0m\n\u001b[0;32m     11\u001b[0m \u001b[1;31m# ---  run simulations for M(2k+2) times ---\u001b[0m\u001b[1;33m\u001b[0m\u001b[1;33m\u001b[0m\u001b[1;33m\u001b[0m\u001b[0m\n\u001b[1;32m---> 12\u001b[1;33m \u001b[0mmulti_simul_df\u001b[0m \u001b[1;33m=\u001b[0m \u001b[0mmultiple_simple_simulation\u001b[0m\u001b[1;33m(\u001b[0m\u001b[0mx1_list\u001b[0m\u001b[1;33m,\u001b[0m \u001b[0mx2_list\u001b[0m\u001b[1;33m,\u001b[0m \u001b[0mx3_list\u001b[0m\u001b[1;33m,\u001b[0m \u001b[0mM\u001b[0m\u001b[1;33m,\u001b[0m \u001b[0mk\u001b[0m\u001b[1;33m)\u001b[0m\u001b[1;33m\u001b[0m\u001b[1;33m\u001b[0m\u001b[0m\n\u001b[0m",
      "\u001b[1;32m<ipython-input-2-b55d826c007f>\u001b[0m in \u001b[0;36mmultiple_simple_simulation\u001b[1;34m(x1_list, x2_list, x3_list, M, k)\u001b[0m\n\u001b[0;32m     34\u001b[0m     \u001b[1;32mfor\u001b[0m \u001b[0mi\u001b[0m \u001b[1;32min\u001b[0m \u001b[0mrange\u001b[0m\u001b[1;33m(\u001b[0m\u001b[0mM\u001b[0m\u001b[1;33m*\u001b[0m\u001b[1;33m(\u001b[0m\u001b[1;36m2\u001b[0m\u001b[1;33m*\u001b[0m\u001b[0mk\u001b[0m \u001b[1;33m+\u001b[0m \u001b[1;36m2\u001b[0m\u001b[1;33m)\u001b[0m\u001b[1;33m)\u001b[0m\u001b[1;33m:\u001b[0m \u001b[1;31m# Run simulations M*(2*k + 2) times\u001b[0m\u001b[1;33m\u001b[0m\u001b[1;33m\u001b[0m\u001b[0m\n\u001b[0;32m     35\u001b[0m         \u001b[1;31m# Randomly choose parameters from the provided lists\u001b[0m\u001b[1;33m\u001b[0m\u001b[1;33m\u001b[0m\u001b[1;33m\u001b[0m\u001b[0m\n\u001b[1;32m---> 36\u001b[1;33m         \u001b[0mx_1\u001b[0m \u001b[1;33m=\u001b[0m \u001b[0mrandom\u001b[0m\u001b[1;33m.\u001b[0m\u001b[0mchoice\u001b[0m\u001b[1;33m(\u001b[0m\u001b[0mx1_list\u001b[0m\u001b[1;33m)\u001b[0m\u001b[1;33m\u001b[0m\u001b[1;33m\u001b[0m\u001b[0m\n\u001b[0m\u001b[0;32m     37\u001b[0m         \u001b[0mx_2\u001b[0m \u001b[1;33m=\u001b[0m \u001b[0mrandom\u001b[0m\u001b[1;33m.\u001b[0m\u001b[0mchoice\u001b[0m\u001b[1;33m(\u001b[0m\u001b[0mx2_list\u001b[0m\u001b[1;33m)\u001b[0m\u001b[1;33m\u001b[0m\u001b[1;33m\u001b[0m\u001b[0m\n\u001b[0;32m     38\u001b[0m         \u001b[0mx_3\u001b[0m \u001b[1;33m=\u001b[0m \u001b[0mrandom\u001b[0m\u001b[1;33m.\u001b[0m\u001b[0mchoice\u001b[0m\u001b[1;33m(\u001b[0m\u001b[0mx3_list\u001b[0m\u001b[1;33m)\u001b[0m\u001b[1;33m\u001b[0m\u001b[1;33m\u001b[0m\u001b[0m\n",
      "\u001b[1;31mNameError\u001b[0m: name 'random' is not defined"
     ]
    }
   ],
   "source": [
    "# run random simulations multiple times\n",
    "\n",
    "x1_list = [1,2,3,4,5]\n",
    "x2_list = [1,2,3,4,5]\n",
    "x3_list = [1,2,3,4,5]\n",
    "\n",
    "# set hyper parameters\n",
    "M = 150\n",
    "k = 3\n",
    "\n",
    "# ---  run simulations for M(2k+2) times ---\n",
    "multi_simul_df = multiple_simple_simulation(x1_list, x2_list, x3_list, M, k) "
   ]
  },
  {
   "cell_type": "code",
   "execution_count": 22,
   "metadata": {
    "tags": []
   },
   "outputs": [
    {
     "data": {
      "text/html": [
       "<div>\n",
       "<style scoped>\n",
       "    .dataframe tbody tr th:only-of-type {\n",
       "        vertical-align: middle;\n",
       "    }\n",
       "\n",
       "    .dataframe tbody tr th {\n",
       "        vertical-align: top;\n",
       "    }\n",
       "\n",
       "    .dataframe thead th {\n",
       "        text-align: right;\n",
       "    }\n",
       "</style>\n",
       "<table border=\"1\" class=\"dataframe\">\n",
       "  <thead>\n",
       "    <tr style=\"text-align: right;\">\n",
       "      <th></th>\n",
       "      <th>x1</th>\n",
       "      <th>x2</th>\n",
       "      <th>x3</th>\n",
       "      <th>y1</th>\n",
       "      <th>y2</th>\n",
       "      <th>y3</th>\n",
       "    </tr>\n",
       "  </thead>\n",
       "  <tbody>\n",
       "    <tr>\n",
       "      <th>0</th>\n",
       "      <td>1</td>\n",
       "      <td>5</td>\n",
       "      <td>3</td>\n",
       "      <td>[81.6, 91.2, 155.8, 200.9, 285.4, 286.7, 292.1...</td>\n",
       "      <td>[48.0, 53.0, 57.0, 139.0, 157.0, 157.0, 164.0,...</td>\n",
       "      <td>[8.0, 9.0, 9.0, 10.0, 11.0, 13.0, 13.0, 13.0, ...</td>\n",
       "    </tr>\n",
       "    <tr>\n",
       "      <th>1</th>\n",
       "      <td>2</td>\n",
       "      <td>2</td>\n",
       "      <td>5</td>\n",
       "      <td>[5.5, 9.9, 23.6, 23.7, 31.9, 32.8, 34.0, 43.3,...</td>\n",
       "      <td>[8.0, 10.0, 23.0, 24.0, 28.0, 31.0, 36.0, 41.0...</td>\n",
       "      <td>[3.0, 3.0, 3.0, 4.0, 6.0, 6.0, 6.0, 7.0, 8.0, ...</td>\n",
       "    </tr>\n",
       "    <tr>\n",
       "      <th>2</th>\n",
       "      <td>5</td>\n",
       "      <td>3</td>\n",
       "      <td>5</td>\n",
       "      <td>[10.1, 15.6, 19.4, 28.7, 38.9, 41.1, 43.0, 43....</td>\n",
       "      <td>[12.0, 19.0, 19.0, 26.0, 34.0, 41.0, 44.0, 47....</td>\n",
       "      <td>[3.0, 5.0, 5.0, 6.0, 8.0, 8.0, 8.0, 9.0, 9.0, ...</td>\n",
       "    </tr>\n",
       "    <tr>\n",
       "      <th>3</th>\n",
       "      <td>4</td>\n",
       "      <td>5</td>\n",
       "      <td>1</td>\n",
       "      <td>[89.0, 270.5960472, 347.1219705, 354.7214986, ...</td>\n",
       "      <td>[15.0, 200.9423677, 204.2314026, 230.281696, 2...</td>\n",
       "      <td>[15.547, 19.36679996, 19.79602558, 20.7, 20.93...</td>\n",
       "    </tr>\n",
       "    <tr>\n",
       "      <th>4</th>\n",
       "      <td>5</td>\n",
       "      <td>2</td>\n",
       "      <td>3</td>\n",
       "      <td>[24.8, 53.9, 70.2, 115.3, 119.0, 156.7, 170.8,...</td>\n",
       "      <td>[26.0, 29.0, 66.0, 78.0, 87.0, 92.0, 104.0, 12...</td>\n",
       "      <td>[5.0, 5.0, 7.0, 11.0, 13.0, 14.0, 14.0, 15.0, ...</td>\n",
       "    </tr>\n",
       "  </tbody>\n",
       "</table>\n",
       "</div>"
      ],
      "text/plain": [
       "   x1  x2  x3                                                 y1  \\\n",
       "0   1   5   3  [81.6, 91.2, 155.8, 200.9, 285.4, 286.7, 292.1...   \n",
       "1   2   2   5  [5.5, 9.9, 23.6, 23.7, 31.9, 32.8, 34.0, 43.3,...   \n",
       "2   5   3   5  [10.1, 15.6, 19.4, 28.7, 38.9, 41.1, 43.0, 43....   \n",
       "3   4   5   1  [89.0, 270.5960472, 347.1219705, 354.7214986, ...   \n",
       "4   5   2   3  [24.8, 53.9, 70.2, 115.3, 119.0, 156.7, 170.8,...   \n",
       "\n",
       "                                                  y2  \\\n",
       "0  [48.0, 53.0, 57.0, 139.0, 157.0, 157.0, 164.0,...   \n",
       "1  [8.0, 10.0, 23.0, 24.0, 28.0, 31.0, 36.0, 41.0...   \n",
       "2  [12.0, 19.0, 19.0, 26.0, 34.0, 41.0, 44.0, 47....   \n",
       "3  [15.0, 200.9423677, 204.2314026, 230.281696, 2...   \n",
       "4  [26.0, 29.0, 66.0, 78.0, 87.0, 92.0, 104.0, 12...   \n",
       "\n",
       "                                                  y3  \n",
       "0  [8.0, 9.0, 9.0, 10.0, 11.0, 13.0, 13.0, 13.0, ...  \n",
       "1  [3.0, 3.0, 3.0, 4.0, 6.0, 6.0, 6.0, 7.0, 8.0, ...  \n",
       "2  [3.0, 5.0, 5.0, 6.0, 8.0, 8.0, 8.0, 9.0, 9.0, ...  \n",
       "3  [15.547, 19.36679996, 19.79602558, 20.7, 20.93...  \n",
       "4  [5.0, 5.0, 7.0, 11.0, 13.0, 14.0, 14.0, 15.0, ...  "
      ]
     },
     "execution_count": 22,
     "metadata": {},
     "output_type": "execute_result"
    }
   ],
   "source": [
    "multi_simul_df.head()"
   ]
  },
  {
   "cell_type": "code",
   "execution_count": 8,
   "metadata": {
    "collapsed": true,
    "jupyter": {
     "outputs_hidden": true
    },
    "tags": []
   },
   "outputs": [
    {
     "ename": "NameError",
     "evalue": "name 'O1' is not defined",
     "output_type": "error",
     "traceback": [
      "\u001b[1;31m---------------------------------------------------------------------------\u001b[0m",
      "\u001b[1;31mNameError\u001b[0m                                 Traceback (most recent call last)",
      "\u001b[1;32m<ipython-input-8-6a975abe1107>\u001b[0m in \u001b[0;36m<module>\u001b[1;34m\u001b[0m\n\u001b[1;32m----> 1\u001b[1;33m \u001b[0mO_list\u001b[0m \u001b[1;33m=\u001b[0m \u001b[1;33m[\u001b[0m\u001b[0mO1\u001b[0m\u001b[1;33m,\u001b[0m \u001b[0mO2\u001b[0m\u001b[1;33m,\u001b[0m \u001b[0mO3\u001b[0m\u001b[1;33m]\u001b[0m \u001b[1;31m# observed data to list\u001b[0m\u001b[1;33m\u001b[0m\u001b[1;33m\u001b[0m\u001b[0m\n\u001b[0m\u001b[0;32m      2\u001b[0m \u001b[0mu\u001b[0m \u001b[1;33m=\u001b[0m \u001b[1;36m0.1\u001b[0m\u001b[1;33m\u001b[0m\u001b[1;33m\u001b[0m\u001b[0m\n\u001b[0;32m      3\u001b[0m \u001b[0mrmse_sel_df\u001b[0m\u001b[1;33m,\u001b[0m \u001b[0mmulti_simul_df_rmse_sel\u001b[0m \u001b[1;33m=\u001b[0m \u001b[0mprep1_criterion\u001b[0m\u001b[1;33m(\u001b[0m\u001b[0mO_list\u001b[0m\u001b[1;33m,\u001b[0m \u001b[0mmulti_simul_df\u001b[0m\u001b[1;33m,\u001b[0m \u001b[0mu\u001b[0m\u001b[1;33m,\u001b[0m \u001b[0mk\u001b[0m\u001b[1;33m)\u001b[0m\u001b[1;33m\u001b[0m\u001b[1;33m\u001b[0m\u001b[0m\n\u001b[0;32m      4\u001b[0m \u001b[1;33m\u001b[0m\u001b[0m\n\u001b[0;32m      5\u001b[0m \u001b[1;31m# now, we have the rmse_se for all O.\u001b[0m\u001b[1;33m\u001b[0m\u001b[1;33m\u001b[0m\u001b[1;33m\u001b[0m\u001b[0m\n",
      "\u001b[1;31mNameError\u001b[0m: name 'O1' is not defined"
     ]
    }
   ],
   "source": [
    "# --- preprocessing 1: determining a criterion for calibration\n",
    "\n",
    "O_list = [O1, O2, O3] # observed data to list -> sqp.O1, sqp.O2, sqp.O3 를 넣어야 함.\n",
    "u = 0.1\n",
    "rmse_sel_df, multi_simul_df_rmse_sel = prep1_criterion(O_list, multi_simul_df, u, k)\n",
    "\n",
    "# now, we have the rmse_sel for all O.\n",
    "rmse_sel_df"
   ]
  },
  {
   "cell_type": "code",
   "execution_count": 11,
   "metadata": {
    "tags": []
   },
   "outputs": [
    {
     "name": "stdout",
     "output_type": "stream",
     "text": [
      "The order of Ys: ['y1', 'y3', 'y2']\n"
     ]
    },
    {
     "data": {
      "text/html": [
       "<div>\n",
       "<style scoped>\n",
       "    .dataframe tbody tr th:only-of-type {\n",
       "        vertical-align: middle;\n",
       "    }\n",
       "\n",
       "    .dataframe tbody tr th {\n",
       "        vertical-align: top;\n",
       "    }\n",
       "\n",
       "    .dataframe thead th {\n",
       "        text-align: right;\n",
       "    }\n",
       "</style>\n",
       "<table border=\"1\" class=\"dataframe\">\n",
       "  <thead>\n",
       "    <tr style=\"text-align: right;\">\n",
       "      <th></th>\n",
       "      <th>y</th>\n",
       "      <th>count</th>\n",
       "    </tr>\n",
       "  </thead>\n",
       "  <tbody>\n",
       "    <tr>\n",
       "      <th>0</th>\n",
       "      <td>y1</td>\n",
       "      <td>672</td>\n",
       "    </tr>\n",
       "    <tr>\n",
       "      <th>1</th>\n",
       "      <td>y2</td>\n",
       "      <td>215</td>\n",
       "    </tr>\n",
       "    <tr>\n",
       "      <th>2</th>\n",
       "      <td>y3</td>\n",
       "      <td>367</td>\n",
       "    </tr>\n",
       "  </tbody>\n",
       "</table>\n",
       "</div>"
      ],
      "text/plain": [
       "    y  count\n",
       "0  y1    672\n",
       "1  y2    215\n",
       "2  y3    367"
      ]
     },
     "execution_count": 11,
     "metadata": {},
     "output_type": "execute_result"
    }
   ],
   "source": [
    "# --- preprocessing 2: sorting Y for calibration\n",
    "\n",
    "y_seq_df = sorting_Y(multi_simul_df_rmse_sel)\n",
    "y_seq_df"
   ]
  },
  {
   "cell_type": "code",
   "execution_count": 12,
   "metadata": {
    "tags": []
   },
   "outputs": [
    {
     "name": "stdout",
     "output_type": "stream",
     "text": [
      "The order of Xs: ['x3', 'x2', 'x1']\n"
     ]
    },
    {
     "data": {
      "text/html": [
       "<div>\n",
       "<style scoped>\n",
       "    .dataframe tbody tr th:only-of-type {\n",
       "        vertical-align: middle;\n",
       "    }\n",
       "\n",
       "    .dataframe tbody tr th {\n",
       "        vertical-align: top;\n",
       "    }\n",
       "\n",
       "    .dataframe thead th {\n",
       "        text-align: right;\n",
       "    }\n",
       "</style>\n",
       "<table border=\"1\" class=\"dataframe\">\n",
       "  <thead>\n",
       "    <tr style=\"text-align: right;\">\n",
       "      <th></th>\n",
       "      <th>Xs</th>\n",
       "      <th>first_order_Si</th>\n",
       "    </tr>\n",
       "  </thead>\n",
       "  <tbody>\n",
       "    <tr>\n",
       "      <th>0</th>\n",
       "      <td>x1</td>\n",
       "      <td>0.002692</td>\n",
       "    </tr>\n",
       "    <tr>\n",
       "      <th>1</th>\n",
       "      <td>x2</td>\n",
       "      <td>0.053955</td>\n",
       "    </tr>\n",
       "    <tr>\n",
       "      <th>2</th>\n",
       "      <td>x3</td>\n",
       "      <td>0.649564</td>\n",
       "    </tr>\n",
       "  </tbody>\n",
       "</table>\n",
       "</div>"
      ],
      "text/plain": [
       "   Xs  first_order_Si\n",
       "0  x1        0.002692\n",
       "1  x2        0.053955\n",
       "2  x3        0.649564"
      ]
     },
     "execution_count": 12,
     "metadata": {},
     "output_type": "execute_result"
    }
   ],
   "source": [
    "# --- preprocessing 3: sorting X based on sensitivity analysis for calibration\n",
    "problem = {\n",
    "    'num_vars': 3,\n",
    "    'names': ['p1', 'p2', 'p3'],\n",
    "    'bounds': [[1, 5],\n",
    "               [1, 5],\n",
    "               [1, 5]]\n",
    "}\n",
    "\n",
    "x_seq_df = sorting_X(problem, multi_simul_df_rmse_sel, SA = 'RBD-FAST')\n",
    "x_seq_df"
   ]
  },
  {
   "cell_type": "markdown",
   "metadata": {},
   "source": [
    "## sequential calibration"
   ]
  },
  {
   "cell_type": "markdown",
   "metadata": {},
   "source": [
    "- round 1 (y: y1)"
   ]
  },
  {
   "cell_type": "code",
   "execution_count": 151,
   "metadata": {},
   "outputs": [
    {
     "name": "stdout",
     "output_type": "stream",
     "text": [
      "reliability of 'x3' for 'y1' (1 - uncertainty degree):  {3: 0.59, 4: 0.91, 5: 1.0}\n",
      "updated x3 parameter space: [3, 4, 5]\n"
     ]
    }
   ],
   "source": [
    "# -- now we need to run sequential calibration with the previous sequence of y and x (y1 -> y3 -> y2 / x3 -> x2 -> x1) --\n",
    "# First round of y1: fix x3\n",
    "x1_list = [1,2,3,4,5]\n",
    "x2_list = [1,2,3,4,5]\n",
    "x3_list = [1,2,3,4,5]\n",
    "\n",
    "fix_x3_y1_simul_result_df = fix_param_simple_simulation(x1_list, x2_list, x3_list, fix_x = 'x3', M = 100) # fix x3: fix each x3 value one by one and run 100 times of simulation\n",
    "\n",
    "x3_list, result_df = seqCalibration(fix_x = 'x3', fix_y = 'y1', rmse_sel = 401.295316, simul_result_df = fix_x3_y1_simul_result_df,  O_list = O_list, t = 0.2, df_return = True)\n",
    "\n",
    "print('updated x3 parameter space:', x3_list)"
   ]
  },
  {
   "cell_type": "code",
   "execution_count": 153,
   "metadata": {
    "tags": []
   },
   "outputs": [
    {
     "name": "stdout",
     "output_type": "stream",
     "text": [
      "reliability of 'x2' for 'y1' (1 - uncertainty degree):  {1: 0.93, 2: 0.88, 3: 0.79, 4: 0.79, 5: 0.58}\n",
      "updated x2 parameter space: [1, 2, 3, 4, 5]\n"
     ]
    }
   ],
   "source": [
    "# Second round of y1: fix x2\n",
    "\n",
    "fix_x2_y1_simul_result_df = fix_param_simple_simulation(x1_list, x2_list, x3_list, fix_x = 'x2', M = 100) # fix x3: fix each x3 value one by one and run 100 times of simulation\n",
    "\n",
    "x2_list, result_df = seqCalibration(fix_x = 'x2', fix_y = 'y1', rmse_sel = 401.295316, simul_result_df = fix_x2_y1_simul_result_df,  O_list = O_list, t = 0.2, df_return = True)\n",
    "\n",
    "print('updated x2 parameter space:', x2_list)"
   ]
  },
  {
   "cell_type": "code",
   "execution_count": 154,
   "metadata": {
    "tags": []
   },
   "outputs": [
    {
     "name": "stdout",
     "output_type": "stream",
     "text": [
      "reliability of 'x1' for 'y1' (1 - uncertainty degree):  {1: 0.726, 2: 0.869, 4: 0.909, 3: 0.85, 5: 0.729}\n",
      "updated x1 parameter space: [1, 2, 3, 4, 5]\n"
     ]
    }
   ],
   "source": [
    "# Third round of y1: fix x1\n",
    "\n",
    "fix_x1_y1_simul_result_df = fix_param_simple_simulation(x1_list, x2_list, x3_list, fix_x = 'x1', M = 100) # fix x3: fix each x3 value one by one and run 100 times of simulation\n",
    "\n",
    "x1_list, result_df = seqCalibration(fix_x = 'x1', fix_y = 'y1', rmse_sel = 401.295316, simul_result_df = fix_x1_y1_simul_result_df,  O_list = O_list, t = 0.2, df_return = True)\n",
    "\n",
    "print('updated x1 parameter space:', x1_list)"
   ]
  },
  {
   "cell_type": "markdown",
   "metadata": {},
   "source": [
    "- round 2 (y: y3)"
   ]
  },
  {
   "cell_type": "code",
   "execution_count": 157,
   "metadata": {
    "tags": []
   },
   "outputs": [
    {
     "name": "stdout",
     "output_type": "stream",
     "text": [
      "reliability of 'x3' for 'y3' (1 - uncertainty degree):  {4: 0.41, 5: 0.62}\n",
      "updated x3 parameter space: [4, 5]\n"
     ]
    }
   ],
   "source": [
    "# First round of y3: fix x3\n",
    "\n",
    "fix_x3_y3_simul_result_df = fix_param_simple_simulation(x1_list, x2_list, x3_list, fix_x = 'x3', M = 100) # fix x3: fix each x3 value one by one and run 100 times of simulation\n",
    "\n",
    "x3_list, result_df = seqCalibration(fix_x = 'x3', fix_y = 'y3', rmse_sel = 3.176924, simul_result_df = fix_x3_y3_simul_result_df,  O_list = O_list, t = 0.2, df_return = True)\n",
    "\n",
    "print('updated x3 parameter space:', x3_list)"
   ]
  },
  {
   "cell_type": "code",
   "execution_count": 160,
   "metadata": {
    "tags": []
   },
   "outputs": [
    {
     "name": "stdout",
     "output_type": "stream",
     "text": [
      "reliability of 'x2' for 'y3' (1 - uncertainty degree):  {1: 0.689, 5: 0.531, 4: 0.515, 3: 0.657, 2: 0.478}\n",
      "updated x2 parameter space: [1, 2, 3, 4, 5]\n"
     ]
    }
   ],
   "source": [
    "# second round of y3: fix x2\n",
    "\n",
    "fix_x2_y3_simul_result_df = fix_param_simple_simulation(x1_list, x2_list, x3_list, fix_x = 'x2', M = 100) # fix x3: fix each x3 value one by one and run 100 times of simulation\n",
    "\n",
    "x2_list, result_df = seqCalibration(fix_x = 'x2', fix_y = 'y3', rmse_sel = 3.176924, simul_result_df = fix_x2_y3_simul_result_df,  O_list = O_list, t = 0.2, df_return = True)\n",
    "\n",
    "print('updated x2 parameter space:', x2_list)"
   ]
  },
  {
   "cell_type": "code",
   "execution_count": 161,
   "metadata": {
    "tags": []
   },
   "outputs": [
    {
     "name": "stdout",
     "output_type": "stream",
     "text": [
      "reliability of 'x2' for 'y3' (1 - uncertainty degree):  {1: 0.67, 2: 0.43, 3: 0.68, 4: 0.65, 5: 0.56}\n",
      "updated x1 parameter space: [1, 2, 3, 4, 5]\n"
     ]
    }
   ],
   "source": [
    "# second round of y3: fix x1\n",
    "\n",
    "fix_x1_y3_simul_result_df = fix_param_simple_simulation(x1_list, x2_list, x3_list, fix_x = 'x1', M = 100) # fix x3: fix each x3 value one by one and run 100 times of simulation\n",
    "\n",
    "x1_list, result_df = seqCalibration(fix_x = 'x2', fix_y = 'y3', rmse_sel = 3.176924, simul_result_df = fix_x1_y3_simul_result_df,  O_list = O_list, t = 0.2, df_return = True)\n",
    "\n",
    "print('updated x1 parameter space:', x1_list)"
   ]
  },
  {
   "cell_type": "markdown",
   "metadata": {},
   "source": [
    "- round 3 (y: y2)"
   ]
  },
  {
   "cell_type": "code",
   "execution_count": 162,
   "metadata": {
    "tags": []
   },
   "outputs": [
    {
     "name": "stdout",
     "output_type": "stream",
     "text": [
      "reliability of 'x3' for 'y2' (1 - uncertainty degree):  {5: 0.678, 4: 0.429}\n",
      "updated x3 parameter space: [4, 5]\n"
     ]
    }
   ],
   "source": [
    "# First round of y2: fix x3\n",
    "\n",
    "fix_x3_y2_simul_result_df = fix_param_simple_simulation(x1_list, x2_list, x3_list, fix_x = 'x3', M = 100) # fix x3: fix each x3 value one by one and run 100 times of simulation\n",
    "\n",
    "x3_list, result_df = seqCalibration(fix_x = 'x3', fix_y = 'y2', rmse_sel = 50.487752, simul_result_df = fix_x3_y2_simul_result_df,  O_list = O_list, t = 0.2, df_return = True)\n",
    "\n",
    "print('updated x3 parameter space:', x3_list)"
   ]
  },
  {
   "cell_type": "code",
   "execution_count": 163,
   "metadata": {
    "tags": []
   },
   "outputs": [
    {
     "name": "stdout",
     "output_type": "stream",
     "text": [
      "reliability of 'x2' for 'y2' (1 - uncertainty degree):  {3: 0.25, 1: 0.421, 4: 0.396, 2: 0.333}\n",
      "updated x2 parameter space: [1, 2, 3, 4]\n"
     ]
    }
   ],
   "source": [
    "# second round of y2: fix x2\n",
    "\n",
    "fix_x2_y2_simul_result_df = fix_param_simple_simulation(x1_list, x2_list, x3_list, fix_x = 'x2', M = 100) # fix x3: fix each x3 value one by one and run 100 times of simulation\n",
    "\n",
    "x2_list, result_df = seqCalibration(fix_x = 'x2', fix_y = 'y2', rmse_sel = 50.487752, simul_result_df = fix_x2_y2_simul_result_df,  O_list = O_list, t = 0.2, df_return = True)\n",
    "\n",
    "print('updated x2 parameter space:', x2_list)"
   ]
  },
  {
   "cell_type": "code",
   "execution_count": 164,
   "metadata": {
    "tags": []
   },
   "outputs": [
    {
     "name": "stdout",
     "output_type": "stream",
     "text": [
      "reliability of 'x1' for 'y2' (1 - uncertainty degree):  {3: 0.443, 1: 0.34, 2: 0.634, 4: 0.541}\n",
      "updated x1 parameter space: [1, 2, 3, 4]\n"
     ]
    }
   ],
   "source": [
    "# second round of y2: fix x1\n",
    "\n",
    "fix_x1_y2_simul_result_df = fix_param_simple_simulation(x1_list, x2_list, x3_list, fix_x = 'x1', M = 100) # fix x3: fix each x3 value one by one and run 100 times of simulation\n",
    "\n",
    "x1_list, result_df = seqCalibration(fix_x = 'x1', fix_y = 'y2', rmse_sel = 50.487752, simul_result_df = fix_x1_y2_simul_result_df,  O_list = O_list, t = 0.2, df_return = True)\n",
    "\n",
    "print('updated x1 parameter space:', x1_list)"
   ]
  },
  {
   "cell_type": "code",
   "execution_count": null,
   "metadata": {},
   "outputs": [],
   "source": []
  }
 ],
 "metadata": {
  "kernelspec": {
   "display_name": "Python 3",
   "language": "python",
   "name": "python3"
  },
  "language_info": {
   "codemirror_mode": {
    "name": "ipython",
    "version": 3
   },
   "file_extension": ".py",
   "mimetype": "text/x-python",
   "name": "python",
   "nbconvert_exporter": "python",
   "pygments_lexer": "ipython3",
   "version": "3.9.1"
  }
 },
 "nbformat": 4,
 "nbformat_minor": 4
}
